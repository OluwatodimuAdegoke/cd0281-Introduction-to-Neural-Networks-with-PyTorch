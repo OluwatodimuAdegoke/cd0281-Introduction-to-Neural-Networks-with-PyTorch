{
 "cells": [
  {
   "cell_type": "markdown",
   "metadata": {},
   "source": [
    "# Neural networks with PyTorch\n",
    "\n",
    "Deep learning networks tend to be massive with dozens or hundreds of layers, that's where the term \"deep\" comes from. You can build one of these deep networks using only weight matrices as we did in the previous notebook, but in general it's very cumbersome and difficult to implement. PyTorch has a nice module `nn` that provides a nice way to efficiently build large neural networks."
   ]
  },
  {
   "cell_type": "code",
   "execution_count": 1,
   "metadata": {
    "collapsed": true
   },
   "outputs": [],
   "source": [
    "# Import necessary packages\n",
    "\n",
    "%matplotlib inline\n",
    "%config InlineBackend.figure_format = 'retina'\n",
    "\n",
    "import numpy as np\n",
    "import torch\n",
    "\n",
    "import helper\n",
    "\n",
    "import matplotlib.pyplot as plt"
   ]
  },
  {
   "cell_type": "markdown",
   "metadata": {},
   "source": [
    "\n",
    "Now we're going to build a larger network that can solve a (formerly) difficult problem, identifying text in an image. Here we'll use the MNIST dataset which consists of greyscale handwritten digits. Each image is 28x28 pixels, you can see a sample below\n",
    "\n",
    "<img src='assets/mnist.png'>\n",
    "\n",
    "Our goal is to build a neural network that can take one of these images and predict the digit in the image.\n",
    "\n",
    "First up, we need to get our dataset. This is provided through the `torchvision` package. The code below will download the MNIST dataset, then create training and test datasets for us. Don't worry too much about the details here, you'll learn more about this later."
   ]
  },
  {
   "cell_type": "code",
   "execution_count": 2,
   "metadata": {},
   "outputs": [],
   "source": [
    "# The MNIST datasets are hosted on yann.lecun.com that has moved under CloudFlare protection\n",
    "# Run this script to enable the datasets download\n",
    "# Reference: https://github.com/pytorch/vision/issues/1938\n",
    "\n",
    "from six.moves import urllib\n",
    "opener = urllib.request.build_opener()\n",
    "opener.addheaders = [('User-agent', 'Mozilla/5.0')]\n",
    "urllib.request.install_opener(opener)"
   ]
  },
  {
   "cell_type": "code",
   "execution_count": 3,
   "metadata": {
    "collapsed": true
   },
   "outputs": [
    {
     "name": "stdout",
     "output_type": "stream",
     "text": [
      "Downloading http://yann.lecun.com/exdb/mnist/train-images-idx3-ubyte.gz\n",
      "Failed to download (trying next):\n",
      "HTTP Error 403: Forbidden\n",
      "\n",
      "Downloading https://ossci-datasets.s3.amazonaws.com/mnist/train-images-idx3-ubyte.gz\n",
      "Downloading https://ossci-datasets.s3.amazonaws.com/mnist/train-images-idx3-ubyte.gz to C:\\Users\\oluwa/.pytorch/MNIST_data/MNIST\\raw\\train-images-idx3-ubyte.gz\n"
     ]
    },
    {
     "name": "stderr",
     "output_type": "stream",
     "text": [
      "100%|██████████| 9.91M/9.91M [00:00<00:00, 22.0MB/s]\n"
     ]
    },
    {
     "name": "stdout",
     "output_type": "stream",
     "text": [
      "Extracting C:\\Users\\oluwa/.pytorch/MNIST_data/MNIST\\raw\\train-images-idx3-ubyte.gz to C:\\Users\\oluwa/.pytorch/MNIST_data/MNIST\\raw\n",
      "\n",
      "Downloading http://yann.lecun.com/exdb/mnist/train-labels-idx1-ubyte.gz\n",
      "Failed to download (trying next):\n",
      "HTTP Error 403: Forbidden\n",
      "\n",
      "Downloading https://ossci-datasets.s3.amazonaws.com/mnist/train-labels-idx1-ubyte.gz\n",
      "Downloading https://ossci-datasets.s3.amazonaws.com/mnist/train-labels-idx1-ubyte.gz to C:\\Users\\oluwa/.pytorch/MNIST_data/MNIST\\raw\\train-labels-idx1-ubyte.gz\n"
     ]
    },
    {
     "name": "stderr",
     "output_type": "stream",
     "text": [
      "100%|██████████| 28.9k/28.9k [00:00<00:00, 1.83MB/s]\n"
     ]
    },
    {
     "name": "stdout",
     "output_type": "stream",
     "text": [
      "Extracting C:\\Users\\oluwa/.pytorch/MNIST_data/MNIST\\raw\\train-labels-idx1-ubyte.gz to C:\\Users\\oluwa/.pytorch/MNIST_data/MNIST\\raw\n",
      "\n",
      "Downloading http://yann.lecun.com/exdb/mnist/t10k-images-idx3-ubyte.gz\n",
      "Failed to download (trying next):\n",
      "HTTP Error 403: Forbidden\n",
      "\n",
      "Downloading https://ossci-datasets.s3.amazonaws.com/mnist/t10k-images-idx3-ubyte.gz\n",
      "Downloading https://ossci-datasets.s3.amazonaws.com/mnist/t10k-images-idx3-ubyte.gz to C:\\Users\\oluwa/.pytorch/MNIST_data/MNIST\\raw\\t10k-images-idx3-ubyte.gz\n"
     ]
    },
    {
     "name": "stderr",
     "output_type": "stream",
     "text": [
      "100%|██████████| 1.65M/1.65M [00:00<00:00, 8.21MB/s]\n"
     ]
    },
    {
     "name": "stdout",
     "output_type": "stream",
     "text": [
      "Extracting C:\\Users\\oluwa/.pytorch/MNIST_data/MNIST\\raw\\t10k-images-idx3-ubyte.gz to C:\\Users\\oluwa/.pytorch/MNIST_data/MNIST\\raw\n",
      "\n",
      "Downloading http://yann.lecun.com/exdb/mnist/t10k-labels-idx1-ubyte.gz\n",
      "Failed to download (trying next):\n",
      "HTTP Error 403: Forbidden\n",
      "\n",
      "Downloading https://ossci-datasets.s3.amazonaws.com/mnist/t10k-labels-idx1-ubyte.gz\n",
      "Downloading https://ossci-datasets.s3.amazonaws.com/mnist/t10k-labels-idx1-ubyte.gz to C:\\Users\\oluwa/.pytorch/MNIST_data/MNIST\\raw\\t10k-labels-idx1-ubyte.gz\n"
     ]
    },
    {
     "name": "stderr",
     "output_type": "stream",
     "text": [
      "100%|██████████| 4.54k/4.54k [00:00<00:00, 558kB/s]"
     ]
    },
    {
     "name": "stdout",
     "output_type": "stream",
     "text": [
      "Extracting C:\\Users\\oluwa/.pytorch/MNIST_data/MNIST\\raw\\t10k-labels-idx1-ubyte.gz to C:\\Users\\oluwa/.pytorch/MNIST_data/MNIST\\raw\n",
      "\n"
     ]
    },
    {
     "name": "stderr",
     "output_type": "stream",
     "text": [
      "\n"
     ]
    }
   ],
   "source": [
    "### Run this cell\n",
    "\n",
    "from torchvision import datasets, transforms\n",
    "\n",
    "# Define a transform to normalize the data\n",
    "transform = transforms.Compose([transforms.ToTensor(),\n",
    "                              transforms.Normalize((0.5,), (0.5,)),\n",
    "                              ])\n",
    "\n",
    "# Download and load the training data\n",
    "trainset = datasets.MNIST('~/.pytorch/MNIST_data/', download=True, train=True, transform=transform)\n",
    "trainloader = torch.utils.data.DataLoader(trainset, batch_size=64, shuffle=True)"
   ]
  },
  {
   "cell_type": "markdown",
   "metadata": {},
   "source": [
    "We have the training data loaded into `trainloader` and we make that an iterator with `iter(trainloader)`. Later, we'll use this to loop through the dataset for training, like\n",
    "\n",
    "```python\n",
    "for image, label in trainloader:\n",
    "    ## do things with images and labels\n",
    "```\n",
    "\n",
    "You'll notice I created the `trainloader` with a batch size of 64, and `shuffle=True`. The batch size is the number of images we get in one iteration from the data loader and pass through our network, often called a *batch*. And `shuffle=True` tells it to shuffle the dataset every time we start going through the data loader again. But here I'm just grabbing the first batch so we can check out the data. We can see below that `images` is just a tensor with size `(64, 1, 28, 28)`. So, 64 images per batch, 1 color channel, and 28x28 images."
   ]
  },
  {
   "cell_type": "code",
   "execution_count": 6,
   "metadata": {
    "collapsed": true
   },
   "outputs": [
    {
     "name": "stdout",
     "output_type": "stream",
     "text": [
      "<class 'torch.Tensor'>\n",
      "torch.Size([64, 1, 28, 28])\n",
      "torch.Size([64])\n"
     ]
    }
   ],
   "source": [
    "dataiter = iter(trainloader)\n",
    "images, labels = next(dataiter)\n",
    "print(type(images))\n",
    "print(images.shape)\n",
    "print(labels.shape)"
   ]
  },
  {
   "cell_type": "markdown",
   "metadata": {},
   "source": [
    "This is what one of the images looks like. "
   ]
  },
  {
   "cell_type": "code",
   "execution_count": 8,
   "metadata": {
    "collapsed": true
   },
   "outputs": [
    {
     "data": {
      "image/png": "[encoded data removed]",
      "text/plain": [
       "<Figure size 640x480 with 1 Axes>"
      ]
     },
     "metadata": {
      "image/png": {
       "height": 413,
       "width": 416
      }
     },
     "output_type": "display_data"
    }
   ],
   "source": [
    "plt.imshow(images[1].numpy().squeeze(), cmap='Greys_r');\n",
    "plt.show()"
   ]
  },
  {
   "cell_type": "markdown",
   "metadata": {},
   "source": [
    "First, let's try to build a simple network for this dataset using weight matrices and matrix multiplications. Then, we'll see how to do it using PyTorch's `nn` module which provides a much more convenient and powerful method for defining network architectures.\n",
    "\n",
    "The networks you've seen so far are called *fully-connected* or *dense* networks. Each unit in one layer is connected to each unit in the next layer. In fully-connected networks, the input to each layer must be a one-dimensional vector (which can be stacked into a 2D tensor as a batch of multiple examples). However, our images are 28x28 2D tensors, so we need to convert them into 1D vectors. Thinking about sizes, we need to convert the batch of images with shape `(64, 1, 28, 28)` to a have a shape of `(64, 784)`, 784 is 28 times 28. This is typically called *flattening*, we flattened the 2D images into 1D vectors.\n",
    "\n",
    "Previously you built a network with one output unit. Here we need 10 output units, one for each digit. We want our network to predict the digit shown in an image, so what we'll do is calculate probabilities that the image is of any one digit or class. This ends up being a discrete probability distribution over the classes (digits) that tells us the most likely class for the image. That means we need 10 output units for the 10 classes (digits). We'll see how to convert the network output into a probability distribution next.\n",
    "\n",
    "> **Exercise:** Flatten the batch of images `images`. Then build a multi-layer network with 784 input units, 256 hidden units, and 10 output units using random tensors for the weights and biases. For now, use a sigmoid activation for the hidden layer. Leave the output layer without an activation, we'll add one that gives us a probability distribution next."
   ]
  },
  {
   "cell_type": "code",
   "execution_count": 22,
   "metadata": {
    "collapsed": true
   },
   "outputs": [
    {
     "name": "stdout",
     "output_type": "stream",
     "text": [
      "tensor([[7.0374e-06, 3.4736e-04, 2.2215e-01, 1.1233e-01, 9.0340e-01, 9.9791e-01,\n",
      "         5.4933e-04, 7.0636e-01, 1.9259e-04, 1.6875e-01],\n",
      "        [8.8560e-09, 3.8786e-06, 9.5138e-01, 1.0403e-07, 9.9784e-01, 9.8181e-01,\n",
      "         9.9927e-01, 3.9800e-01, 1.6456e-08, 8.5143e-01],\n",
      "        [3.3619e-09, 9.7554e-01, 9.9718e-01, 6.8613e-06, 9.7886e-01, 8.6791e-01,\n",
      "         2.7330e-01, 9.8122e-01, 9.9894e-06, 9.9864e-01],\n",
      "        [1.5941e-05, 9.9964e-08, 9.9918e-01, 2.4401e-03, 9.9993e-01, 1.0000e+00,\n",
      "         2.1290e-03, 9.9996e-01, 2.0091e-04, 5.7968e-01],\n",
      "        [7.9329e-09, 1.1250e-03, 3.3518e-03, 1.1151e-06, 9.9969e-01, 9.9996e-01,\n",
      "         2.2655e-03, 9.9130e-01, 9.9231e-04, 2.3451e-02],\n",
      "        [1.8598e-03, 1.5643e-03, 3.4406e-02, 5.9710e-06, 6.5196e-01, 9.9998e-01,\n",
      "         5.3542e-04, 2.5433e-03, 8.6748e-04, 3.9816e-04],\n",
      "        [1.8906e-05, 9.9262e-01, 9.9724e-01, 1.3515e-04, 1.0000e+00, 9.9237e-01,\n",
      "         2.4441e-08, 1.0000e+00, 3.6771e-03, 9.2524e-04],\n",
      "        [1.2612e-04, 1.7713e-05, 8.2489e-04, 9.9976e-01, 1.0000e+00, 9.9924e-01,\n",
      "         1.9100e-04, 3.6025e-02, 3.9728e-03, 1.7273e-04],\n",
      "        [8.7177e-07, 3.1576e-05, 3.3968e-01, 9.5722e-06, 1.3418e-03, 1.0000e+00,\n",
      "         1.0241e-01, 9.9450e-01, 2.1733e-05, 4.0815e-02],\n",
      "        [4.0851e-04, 1.6502e-01, 5.9709e-01, 1.0717e-05, 9.9999e-01, 9.9446e-01,\n",
      "         9.1043e-01, 9.0048e-01, 1.3638e-08, 3.2413e-03],\n",
      "        [6.6142e-07, 3.8760e-01, 3.9354e-03, 5.2482e-08, 9.9713e-01, 9.9993e-01,\n",
      "         1.1006e-01, 9.6647e-01, 3.0422e-06, 9.9981e-01],\n",
      "        [5.8973e-05, 1.4086e-03, 9.9928e-01, 1.0698e-06, 9.9921e-01, 8.2175e-01,\n",
      "         3.6626e-05, 6.5460e-01, 5.6381e-08, 1.7711e-01],\n",
      "        [2.8472e-05, 1.2009e-02, 8.6277e-04, 1.6566e-01, 9.9974e-01, 9.9966e-01,\n",
      "         1.0235e-03, 9.7033e-01, 3.7360e-06, 4.2859e-03],\n",
      "        [3.8875e-04, 4.2655e-03, 2.4238e-01, 2.1140e-04, 3.6501e-01, 9.9998e-01,\n",
      "         2.8792e-05, 7.2675e-01, 1.2901e-01, 8.7471e-02],\n",
      "        [6.8987e-04, 5.1685e-07, 5.7164e-01, 2.7838e-03, 9.9997e-01, 9.9984e-01,\n",
      "         9.2275e-01, 9.9520e-01, 7.3677e-04, 2.0024e-02],\n",
      "        [1.0592e-07, 1.5851e-04, 1.2856e-03, 4.6096e-06, 9.9162e-01, 9.9864e-01,\n",
      "         1.2456e-01, 9.8602e-01, 4.3924e-04, 5.3437e-02],\n",
      "        [1.0764e-07, 7.3050e-10, 9.8843e-01, 1.6819e-03, 9.9299e-01, 1.0000e+00,\n",
      "         9.9966e-01, 9.5644e-01, 4.2985e-11, 4.9303e-05],\n",
      "        [9.0940e-07, 5.3082e-01, 9.9650e-01, 1.8058e-04, 1.0000e+00, 9.9979e-01,\n",
      "         5.8775e-05, 8.9277e-01, 1.9076e-07, 9.9797e-01],\n",
      "        [6.5483e-06, 1.9729e-04, 8.5738e-01, 1.9305e-03, 9.9884e-01, 8.9969e-01,\n",
      "         3.0166e-03, 7.6386e-02, 2.3171e-03, 7.8823e-04],\n",
      "        [2.6298e-07, 1.2332e-05, 2.8780e-01, 2.1966e-09, 9.9977e-01, 9.9996e-01,\n",
      "         1.5332e-01, 1.0000e+00, 1.0475e-05, 4.0240e-03],\n",
      "        [3.9101e-03, 9.8160e-04, 3.7383e-02, 8.4255e-01, 9.9970e-01, 9.5689e-01,\n",
      "         1.9878e-02, 4.9761e-02, 8.5345e-12, 7.1298e-01],\n",
      "        [4.7780e-05, 1.9751e-05, 2.1527e-03, 2.5053e-05, 9.6519e-01, 9.9998e-01,\n",
      "         9.5649e-01, 2.1006e-01, 3.1107e-04, 5.3246e-03],\n",
      "        [2.6137e-06, 4.7366e-05, 9.9466e-01, 2.5487e-05, 9.9993e-01, 9.9393e-01,\n",
      "         8.7184e-02, 9.8290e-01, 3.5785e-09, 3.3961e-04],\n",
      "        [6.4481e-09, 4.4447e-06, 8.1220e-01, 7.3291e-05, 9.9999e-01, 9.8716e-01,\n",
      "         1.0435e-02, 9.9998e-01, 1.0745e-04, 5.6620e-04],\n",
      "        [2.0139e-05, 2.3171e-05, 1.1254e-01, 1.7212e-05, 9.9988e-01, 1.1345e-01,\n",
      "         1.6579e-04, 9.4922e-05, 1.1032e-01, 1.4122e-04],\n",
      "        [2.6233e-05, 2.5204e-06, 9.8355e-01, 1.1385e-03, 9.9998e-01, 9.9930e-01,\n",
      "         1.8687e-01, 9.2545e-01, 8.2024e-07, 1.5702e-03],\n",
      "        [5.4944e-07, 8.1754e-02, 5.9007e-03, 2.7663e-06, 1.0000e+00, 9.9704e-01,\n",
      "         2.2618e-08, 9.8543e-01, 1.1248e-01, 1.7285e-02],\n",
      "        [4.5516e-07, 2.9341e-03, 3.2291e-04, 1.4640e-03, 8.1903e-01, 8.7613e-01,\n",
      "         2.1361e-08, 9.9398e-01, 1.7220e-03, 2.1802e-02],\n",
      "        [1.7498e-08, 2.8458e-03, 9.7159e-01, 3.5275e-09, 9.9991e-01, 9.9965e-01,\n",
      "         9.3282e-01, 1.0000e+00, 2.6130e-04, 1.0423e-03],\n",
      "        [3.4276e-07, 4.4758e-01, 4.4019e-01, 3.2559e-03, 4.8254e-01, 9.9562e-01,\n",
      "         1.9521e-05, 9.5155e-01, 2.1212e-06, 4.2171e-01],\n",
      "        [6.6967e-10, 3.2982e-05, 1.3349e-04, 3.0487e-03, 9.9988e-01, 1.0000e+00,\n",
      "         1.8390e-05, 7.8182e-01, 2.6683e-05, 3.9575e-01],\n",
      "        [2.1533e-04, 3.4382e-05, 8.8500e-01, 1.6934e-04, 9.3023e-01, 9.9544e-01,\n",
      "         7.9230e-03, 4.9008e-01, 7.1410e-05, 1.6150e-04],\n",
      "        [5.9987e-10, 7.0268e-01, 7.3248e-01, 4.4821e-02, 9.9999e-01, 7.0123e-01,\n",
      "         1.4853e-06, 5.7938e-04, 5.8646e-05, 2.5625e-02],\n",
      "        [8.7362e-06, 5.1304e-06, 1.6593e-01, 5.4527e-07, 9.9996e-01, 9.9777e-01,\n",
      "         1.7712e-02, 1.0000e+00, 1.8309e-04, 1.5110e-03],\n",
      "        [5.6921e-08, 1.9989e-03, 9.2805e-01, 2.2435e-04, 9.9182e-01, 7.3536e-01,\n",
      "         1.3173e-01, 9.9777e-01, 3.5448e-06, 4.6572e-03],\n",
      "        [2.4219e-08, 1.9340e-07, 1.7213e-03, 1.4469e-04, 1.0000e+00, 1.0000e+00,\n",
      "         5.3848e-03, 5.8725e-02, 2.3219e-09, 6.9416e-01],\n",
      "        [1.6155e-08, 9.2602e-06, 1.8609e-05, 2.2011e-07, 9.9453e-01, 9.9343e-01,\n",
      "         2.7220e-03, 9.9994e-01, 1.0577e-06, 2.8163e-01],\n",
      "        [2.3917e-08, 1.7441e-03, 9.9836e-01, 9.7836e-10, 1.0000e+00, 9.9592e-01,\n",
      "         3.4514e-03, 9.9999e-01, 4.2005e-09, 2.1611e-05],\n",
      "        [2.7779e-06, 1.3951e-07, 9.8184e-01, 4.0498e-02, 9.9929e-01, 9.9728e-01,\n",
      "         1.2629e-05, 4.7761e-01, 4.8583e-08, 5.0077e-01],\n",
      "        [9.3495e-10, 9.7486e-01, 6.9322e-02, 1.9082e-05, 9.9218e-01, 9.9636e-01,\n",
      "         9.8057e-01, 9.5253e-02, 1.0624e-08, 1.2346e-01],\n",
      "        [1.3446e-03, 3.6753e-04, 9.9979e-01, 6.6900e-03, 8.7436e-01, 1.0000e+00,\n",
      "         2.0572e-03, 1.1806e-04, 2.4003e-09, 3.5723e-02],\n",
      "        [4.5245e-05, 8.7136e-01, 8.8978e-01, 1.8073e-04, 9.4152e-01, 9.9881e-01,\n",
      "         1.5042e-06, 7.0951e-02, 3.4430e-04, 3.7567e-01],\n",
      "        [1.3269e-08, 8.1907e-04, 8.7457e-01, 1.1280e-09, 9.9209e-01, 9.9988e-01,\n",
      "         1.1529e-02, 9.4372e-01, 3.6471e-08, 9.9996e-01],\n",
      "        [8.1605e-08, 1.8758e-03, 8.0594e-01, 1.9212e-09, 9.9996e-01, 9.9281e-01,\n",
      "         9.9755e-01, 9.9990e-01, 3.1794e-04, 1.8611e-04],\n",
      "        [2.1949e-11, 3.3660e-04, 8.5286e-01, 3.1672e-02, 9.9946e-01, 9.5977e-01,\n",
      "         9.4532e-03, 9.5102e-01, 5.4278e-05, 9.9523e-01],\n",
      "        [5.2709e-06, 2.1903e-04, 1.2971e-03, 2.2024e-06, 9.9998e-01, 9.9990e-01,\n",
      "         1.9637e-02, 9.9996e-01, 3.5671e-07, 1.1728e-03],\n",
      "        [1.3057e-03, 5.0793e-04, 9.9913e-01, 1.0693e-05, 7.4479e-01, 1.0000e+00,\n",
      "         4.1343e-02, 4.0632e-02, 1.1824e-08, 9.9970e-01],\n",
      "        [1.7367e-08, 2.6503e-03, 1.5112e-03, 1.5840e-04, 9.9994e-01, 9.9737e-01,\n",
      "         1.0096e-05, 1.0543e-02, 1.9934e-05, 8.7533e-01],\n",
      "        [4.9058e-05, 3.8442e-04, 3.1675e-02, 1.2860e-02, 9.9999e-01, 9.3614e-01,\n",
      "         8.5258e-04, 3.3103e-01, 1.3135e-04, 4.6606e-01],\n",
      "        [2.2162e-06, 2.0068e-02, 6.2520e-01, 2.4026e-06, 9.1924e-02, 9.9581e-01,\n",
      "         7.0818e-05, 9.9462e-01, 1.3734e-05, 2.1271e-01],\n",
      "        [8.9213e-06, 7.5589e-07, 2.5540e-01, 8.3153e-03, 1.0000e+00, 9.9999e-01,\n",
      "         1.4252e-04, 9.9514e-01, 4.3363e-06, 1.6066e-03],\n",
      "        [1.3650e-06, 7.9485e-05, 3.7276e-01, 8.5211e-08, 4.1638e-01, 9.9913e-01,\n",
      "         2.3166e-05, 9.8999e-01, 3.8676e-07, 8.9344e-01],\n",
      "        [3.3392e-06, 1.8738e-04, 4.1235e-06, 7.5551e-09, 9.9992e-01, 9.8772e-01,\n",
      "         1.1490e-01, 9.9963e-01, 1.3017e-04, 1.5964e-02],\n",
      "        [3.6629e-08, 6.3652e-09, 8.0842e-05, 1.2508e-02, 9.9999e-01, 9.9990e-01,\n",
      "         1.3326e-04, 8.4563e-02, 1.4147e-04, 2.4412e-04],\n",
      "        [2.0270e-05, 1.8797e-03, 1.4744e-03, 4.3741e-04, 9.9971e-01, 1.0000e+00,\n",
      "         9.9745e-01, 9.9990e-01, 6.4482e-09, 9.0490e-03],\n",
      "        [1.0647e-06, 1.7746e-02, 2.2685e-02, 1.1759e-02, 1.0000e+00, 9.5809e-01,\n",
      "         6.7984e-04, 9.9999e-01, 4.9052e-02, 3.5240e-03],\n",
      "        [3.2326e-08, 5.3792e-06, 4.4962e-03, 6.8279e-01, 1.9198e-01, 1.0000e+00,\n",
      "         4.5865e-04, 1.1303e-04, 4.3119e-05, 2.8423e-03],\n",
      "        [1.8974e-04, 4.1528e-06, 9.9868e-01, 9.9176e-01, 9.9531e-01, 9.9993e-01,\n",
      "         2.9528e-01, 7.8336e-01, 1.1113e-07, 8.0678e-01],\n",
      "        [9.4696e-05, 6.8657e-06, 6.1985e-02, 2.2849e-05, 9.9987e-01, 9.9049e-01,\n",
      "         9.1207e-01, 8.8349e-01, 1.0983e-04, 1.4084e-01],\n",
      "        [4.0025e-07, 3.9611e-07, 3.4108e-03, 1.3486e-01, 9.9938e-01, 9.7492e-01,\n",
      "         5.5498e-05, 2.2284e-01, 4.2444e-05, 5.4454e-03],\n",
      "        [1.3866e-05, 3.6822e-02, 9.9934e-01, 6.1016e-01, 1.0000e+00, 9.9996e-01,\n",
      "         7.5937e-06, 6.9905e-01, 1.4050e-02, 9.6153e-04],\n",
      "        [1.3608e-06, 2.7848e-04, 3.9470e-02, 2.8947e-07, 9.9633e-01, 9.9992e-01,\n",
      "         2.4162e-04, 8.7325e-01, 3.7259e-11, 9.9229e-01],\n",
      "        [4.6612e-07, 1.0531e-05, 4.7813e-06, 1.6759e-05, 6.3454e-01, 1.0000e+00,\n",
      "         3.1489e-04, 9.9995e-01, 2.8035e-06, 5.9303e-02],\n",
      "        [4.3218e-10, 8.0171e-04, 3.5292e-01, 6.2707e-09, 9.9958e-01, 9.9987e-01,\n",
      "         5.3826e-01, 1.0000e+00, 2.0820e-03, 3.3196e-02]])\n"
     ]
    }
   ],
   "source": [
    "## Your solution\n",
    "def activation(x):\n",
    "    return 1/(1+torch.exp(-x))\n",
    "\n",
    "n_hidden = 256\n",
    "n_input = 784\n",
    "n_output = 10\n",
    "\n",
    "torch.manual_seed(7)\n",
    "features = images.view(64, 784)\n",
    "inputs = images.view(images.shape[0], -1)\n",
    "\n",
    "W1 = torch.randn(n_input, n_hidden)\n",
    "W2 = torch.randn(n_hidden, n_output)\n",
    "\n",
    "B1 = torch.randn((1, n_hidden))\n",
    "B2 = torch.randn((1, n_output))\n",
    "\n",
    "hidden_output = activation( torch.mm(features, W1) + B1 )\n",
    "out = activation(torch.mm(hidden_output, W2) + B2)\n",
    "print(out)\n",
    "\n",
    "# out = # output of your network, should have shape (64,10)"
   ]
  },
  {
   "cell_type": "markdown",
   "metadata": {},
   "source": [
    "Now we have 10 outputs for our network. We want to pass in an image to our network and get out a probability distribution over the classes that tells us the likely class(es) the image belongs to. Something that looks like this:\n",
    "<img src='assets/image_distribution.png' width=500px>\n",
    "\n",
    "Here we see that the probability for each class is roughly the same. This is representing an untrained network, it hasn't seen any data yet so it just returns a uniform distribution with equal probabilities for each class.\n",
    "\n",
    "To calculate this probability distribution, we often use the [**softmax** function](https://en.wikipedia.org/wiki/Softmax_function). Mathematically this looks like\n",
    "\n",
    "$$\n",
    "\\Large \\sigma(x_i) = \\cfrac{e^{x_i}}{\\sum_k^K{e^{x_k}}}\n",
    "$$\n",
    "\n",
    "What this does is squish each input $x_i$ between 0 and 1 and normalizes the values to give you a proper probability distribution where the probabilites sum up to one.\n",
    "\n",
    "> **Exercise:** Implement a function `softmax` that performs the softmax calculation and returns probability distributions for each example in the batch. Note that you'll need to pay attention to the shapes when doing this. If you have a tensor `a` with shape `(64, 10)` and a tensor `b` with shape `(64,)`, doing `a/b` will give you an error because PyTorch will try to do the division across the columns (called broadcasting) but you'll get a size mismatch. The way to think about this is for each of the 64 examples, you only want to divide by one value, the sum in the denominator. So you need `b` to have a shape of `(64, 1)`. This way PyTorch will divide the 10 values in each row of `a` by the one value in each row of `b`. Pay attention to how you take the sum as well. You'll need to define the `dim` keyword in `torch.sum`. Setting `dim=0` takes the sum across the rows while `dim=1` takes the sum across the columns."
   ]
  },
  {
   "cell_type": "code",
   "execution_count": 35,
   "metadata": {
    "collapsed": true
   },
   "outputs": [
    {
     "name": "stdout",
     "output_type": "stream",
     "text": [
      "torch.Size([64, 10])\n",
      "tensor([1.0000, 1.0000, 1.0000, 1.0000, 1.0000, 1.0000, 1.0000, 1.0000, 1.0000,\n",
      "        1.0000, 1.0000, 1.0000, 1.0000, 1.0000, 1.0000, 1.0000, 1.0000, 1.0000,\n",
      "        1.0000, 1.0000, 1.0000, 1.0000, 1.0000, 1.0000, 1.0000, 1.0000, 1.0000,\n",
      "        1.0000, 1.0000, 1.0000, 1.0000, 1.0000, 1.0000, 1.0000, 1.0000, 1.0000,\n",
      "        1.0000, 1.0000, 1.0000, 1.0000, 1.0000, 1.0000, 1.0000, 1.0000, 1.0000,\n",
      "        1.0000, 1.0000, 1.0000, 1.0000, 1.0000, 1.0000, 1.0000, 1.0000, 1.0000,\n",
      "        1.0000, 1.0000, 1.0000, 1.0000, 1.0000, 1.0000, 1.0000, 1.0000, 1.0000,\n",
      "        1.0000])\n"
     ]
    }
   ],
   "source": [
    "def softmax(x):\n",
    "    ## TODO: Implement the softmax function here\n",
    "    a = torch.exp(x)\n",
    "    b = torch.sum(a, dim=1).view(-1,1)\n",
    "    return a / b\n",
    "\n",
    "# Here, out should be the output of the network in the previous excercise with shape (64,10)\n",
    "probabilities = softmax(out)\n",
    "\n",
    "# Does it have the right shape? Should be (64, 10)\n",
    "print(probabilities.shape)\n",
    "# Does it sum to 1?\n",
    "print(probabilities.sum(dim=1))"
   ]
  },
  {
   "cell_type": "markdown",
   "metadata": {},
   "source": [
    "## Building networks with PyTorch\n",
    "\n",
    "PyTorch provides a module `nn` that makes building networks much simpler. Here I'll show you how to build the same one as above with 784 inputs, 256 hidden units, 10 output units and a softmax output."
   ]
  },
  {
   "cell_type": "code",
   "execution_count": 36,
   "metadata": {
    "collapsed": true
   },
   "outputs": [],
   "source": [
    "from torch import nn"
   ]
  },
  {
   "cell_type": "code",
   "execution_count": 37,
   "metadata": {
    "collapsed": true
   },
   "outputs": [],
   "source": [
    "class Network(nn.Module):\n",
    "    def __init__(self):\n",
    "        super().__init__()\n",
    "        \n",
    "        # Inputs to hidden layer linear transformation\n",
    "        self.hidden = nn.Linear(784, 256)\n",
    "        # Output layer, 10 units - one for each digit\n",
    "        self.output = nn.Linear(256, 10)\n",
    "        \n",
    "        # Define sigmoid activation and softmax output \n",
    "        self.sigmoid = nn.Sigmoid()\n",
    "        self.softmax = nn.Softmax(dim=1)\n",
    "        \n",
    "    def forward(self, x):\n",
    "        # Pass the input tensor through each of our operations\n",
    "        x = self.hidden(x)\n",
    "        x = self.sigmoid(x)\n",
    "        x = self.output(x)\n",
    "        x = self.softmax(x)\n",
    "        \n",
    "        return x"
   ]
  },
  {
   "cell_type": "markdown",
   "metadata": {},
   "source": [
    "Let's go through this bit by bit.\n",
    "\n",
    "```python\n",
    "class Network(nn.Module):\n",
    "```\n",
    "\n",
    "Here we're inheriting from `nn.Module`. Combined with `super().__init__()` this creates a class that tracks the architecture and provides a lot of useful methods and attributes. It is mandatory to inherit from `nn.Module` when you're creating a class for your network. The name of the class itself can be anything.\n",
    "\n",
    "```python\n",
    "self.hidden = nn.Linear(784, 256)\n",
    "```\n",
    "\n",
    "This line creates a module for a linear transformation, $x\\mathbf{W} + b$, with 784 inputs and 256 outputs and assigns it to `self.hidden`. The module automatically creates the weight and bias tensors which we'll use in the `forward` method. You can access the weight and bias tensors once the network (`net`) is created with `net.hidden.weight` and `net.hidden.bias`.\n",
    "\n",
    "```python\n",
    "self.output = nn.Linear(256, 10)\n",
    "```\n",
    "\n",
    "Similarly, this creates another linear transformation with 256 inputs and 10 outputs.\n",
    "\n",
    "```python\n",
    "self.sigmoid = nn.Sigmoid()\n",
    "self.softmax = nn.Softmax(dim=1)\n",
    "```\n",
    "\n",
    "Here I defined operations for the sigmoid activation and softmax output. Setting `dim=1` in `nn.Softmax(dim=1)` calculates softmax across the columns.\n",
    "\n",
    "```python\n",
    "def forward(self, x):\n",
    "```\n",
    "\n",
    "PyTorch networks created with `nn.Module` must have a `forward` method defined. It takes in a tensor `x` and passes it through the operations you defined in the `__init__` method.\n",
    "\n",
    "```python\n",
    "x = self.hidden(x)\n",
    "x = self.sigmoid(x)\n",
    "x = self.output(x)\n",
    "x = self.softmax(x)\n",
    "```\n",
    "\n",
    "Here the input tensor `x` is passed through each operation and reassigned to `x`. We can see that the input tensor goes through the hidden layer, then a sigmoid function, then the output layer, and finally the softmax function. It doesn't matter what you name the variables here, as long as the inputs and outputs of the operations match the network architecture you want to build. The order in which you define things in the `__init__` method doesn't matter, but you'll need to sequence the operations correctly in the `forward` method.\n",
    "\n",
    "Now we can create a `Network` object."
   ]
  },
  {
   "cell_type": "code",
   "execution_count": 38,
   "metadata": {
    "collapsed": true
   },
   "outputs": [
    {
     "data": {
      "text/plain": [
       "Network(\n",
       "  (hidden): Linear(in_features=784, out_features=256, bias=True)\n",
       "  (output): Linear(in_features=256, out_features=10, bias=True)\n",
       "  (sigmoid): Sigmoid()\n",
       "  (softmax): Softmax(dim=1)\n",
       ")"
      ]
     },
     "execution_count": 38,
     "metadata": {},
     "output_type": "execute_result"
    }
   ],
   "source": [
    "# Create the network and look at it's text representation\n",
    "model = Network()\n",
    "model"
   ]
  },
  {
   "cell_type": "markdown",
   "metadata": {},
   "source": [
    "You can define the network somewhat more concisely and clearly using the `torch.nn.functional` module. This is the most common way you'll see networks defined as many operations are simple element-wise functions. We normally import this module as `F`, `import torch.nn.functional as F`."
   ]
  },
  {
   "cell_type": "code",
   "execution_count": 39,
   "metadata": {
    "collapsed": true
   },
   "outputs": [],
   "source": [
    "import torch.nn.functional as F\n",
    "\n",
    "class Network(nn.Module):\n",
    "    def __init__(self):\n",
    "        super().__init__()\n",
    "        # Inputs to hidden layer linear transformation\n",
    "        self.hidden = nn.Linear(784, 256)\n",
    "        # Output layer, 10 units - one for each digit\n",
    "        self.output = nn.Linear(256, 10)\n",
    "        \n",
    "    def forward(self, x):\n",
    "        # Hidden layer with sigmoid activation\n",
    "        x = F.sigmoid(self.hidden(x))\n",
    "        # Output layer with softmax activation\n",
    "        x = F.softmax(self.output(x), dim=1)\n",
    "        \n",
    "        return x"
   ]
  },
  {
   "cell_type": "markdown",
   "metadata": {},
   "source": [
    "### Activation functions\n",
    "\n",
    "So far we've only been looking at the sigmoid activation function, but in general any function can be used as an activation function. The only requirement is that for a network to approximate a non-linear function, the activation functions must be non-linear. Here are a few more examples of common activation functions: Tanh (hyperbolic tangent), and ReLU (rectified linear unit).\n",
    "\n",
    "<img src=\"assets/activation.png\" width=700px>\n",
    "\n",
    "In practice, the ReLU function is used almost exclusively as the activation function for hidden layers."
   ]
  },
  {
   "cell_type": "markdown",
   "metadata": {},
   "source": [
    "### Your Turn to Build a Network\n",
    "\n",
    "<img src=\"assets/mlp_mnist.png\" width=600px>\n",
    "\n",
    "> **Exercise:** Create a network with 784 input units, a hidden layer with 128 units and a ReLU activation, then a hidden layer with 64 units and a ReLU activation, and finally an output layer with a softmax activation as shown above. You can use a ReLU activation with the `nn.ReLU` module or `F.relu` function.\n",
    "\n",
    "It's good practice to name your layers by their type of network, for instance 'fc' to represent a fully-connected layer. As you code your solution, use `fc1`, `fc2`, and `fc3` as your layer names."
   ]
  },
  {
   "cell_type": "code",
   "execution_count": 45,
   "metadata": {
    "collapsed": true,
    "scrolled": true
   },
   "outputs": [
    {
     "data": {
      "text/plain": [
       "Network2(\n",
       "  (fc1): Linear(in_features=784, out_features=128, bias=True)\n",
       "  (fc2): Linear(in_features=128, out_features=64, bias=True)\n",
       "  (fc3): Linear(in_features=64, out_features=10, bias=True)\n",
       "  (relu): ReLU()\n",
       "  (softmax): Softmax(dim=1)\n",
       ")"
      ]
     },
     "execution_count": 45,
     "metadata": {},
     "output_type": "execute_result"
    }
   ],
   "source": [
    "## Your solution here\n",
    "from torch import nn\n",
    "import torch.nn.functional as F\n",
    "\n",
    "class Network2(nn.Module):\n",
    "    def __init__(self):\n",
    "        super().__init__()\n",
    "        self.fc1 = nn.Linear(784,128)\n",
    "        self.fc2 = nn.Linear(128,64)\n",
    "        self.fc3 = nn.Linear(64,10)\n",
    "\n",
    "        self.relu = nn.ReLU()\n",
    "        self.softmax = nn.Softmax(dim=1)\n",
    "\n",
    "    def forward(self, x):\n",
    "        x = self.fc1(x)\n",
    "        x = F.relu(x)\n",
    "        # x = self.relu(x)\n",
    "        x = self.fc2(x)\n",
    "        x = F.relu(x)\n",
    "        # x = self.relu(x)\n",
    "        x = self.fc3(x)\n",
    "        x = F.softmax(x, dim = 1)\n",
    "        # x = self.softmax(x)\n",
    "\n",
    "        return x\n",
    "\n",
    "model = Network2()\n",
    "model\n",
    "     "
   ]
  },
  {
   "cell_type": "markdown",
   "metadata": {},
   "source": [
    "### Initializing weights and biases\n",
    "\n",
    "The weights and such are automatically initialized for you, but it's possible to customize how they are initialized. The weights and biases are tensors attached to the layer you defined, you can get them with `model.fc1.weight` for instance."
   ]
  },
  {
   "cell_type": "code",
   "execution_count": 46,
   "metadata": {
    "collapsed": true
   },
   "outputs": [
    {
     "name": "stdout",
     "output_type": "stream",
     "text": [
      "Parameter containing:\n",
      "tensor([[ 0.0344,  0.0054, -0.0004,  ..., -0.0286, -0.0300, -0.0328],\n",
      "        [ 0.0240,  0.0024,  0.0235,  ..., -0.0063,  0.0203,  0.0024],\n",
      "        [-0.0226, -0.0333,  0.0034,  ..., -0.0134,  0.0258,  0.0293],\n",
      "        ...,\n",
      "        [ 0.0300,  0.0127, -0.0111,  ..., -0.0064, -0.0247,  0.0095],\n",
      "        [-0.0162,  0.0303,  0.0221,  ..., -0.0143, -0.0063, -0.0177],\n",
      "        [-0.0241,  0.0302,  0.0114,  ...,  0.0301, -0.0126, -0.0315]],\n",
      "       requires_grad=True)\n",
      "Parameter containing:\n",
      "tensor([-2.6693e-02,  5.7953e-03, -7.6120e-03,  3.4146e-02,  1.1655e-02,\n",
      "        -1.8138e-02,  2.9291e-02,  2.6215e-02,  3.8917e-03, -3.0553e-02,\n",
      "         5.4777e-03,  1.3017e-02, -1.1077e-02,  2.6639e-02,  1.1247e-02,\n",
      "        -2.2913e-02,  8.0801e-03, -1.1623e-02,  2.6911e-02,  6.9189e-03,\n",
      "         1.0351e-02, -1.1690e-02,  1.5924e-02, -2.5638e-02, -8.5161e-03,\n",
      "         2.0276e-02,  1.0482e-02,  4.5824e-03,  1.6437e-02, -5.8956e-03,\n",
      "         1.8982e-02,  1.0135e-02, -3.1186e-02, -2.7821e-02,  1.2253e-02,\n",
      "         2.4860e-02, -7.5551e-03,  3.1250e-02, -2.5253e-03,  2.6978e-02,\n",
      "         1.4440e-03,  1.7447e-02,  5.4453e-05, -2.8880e-02, -6.2343e-03,\n",
      "         2.6672e-02, -2.9534e-02, -2.0480e-02,  3.4026e-02,  1.4954e-02,\n",
      "        -3.0430e-02, -2.1391e-02,  5.9367e-03,  3.3417e-02, -3.5005e-02,\n",
      "        -1.2546e-02,  1.0208e-02,  7.9943e-03, -9.3113e-03, -6.0160e-03,\n",
      "         2.9531e-02, -3.2850e-02, -1.2112e-02, -3.0587e-02,  1.1796e-02,\n",
      "         3.2917e-02, -3.3115e-02, -2.6425e-03, -1.6305e-02, -2.8993e-02,\n",
      "        -1.8898e-02,  2.0110e-02,  7.3145e-03,  1.5992e-02, -3.4013e-02,\n",
      "        -1.6495e-02, -2.2391e-02,  2.4340e-02, -2.5183e-02, -2.1387e-02,\n",
      "         4.7973e-03,  6.9384e-03, -2.8333e-02, -3.0176e-02, -9.9291e-03,\n",
      "        -2.0988e-02, -2.2325e-02,  1.3628e-02,  2.4058e-02, -1.7209e-02,\n",
      "        -2.5047e-02,  2.4270e-02, -7.1025e-03, -1.9856e-02,  9.5556e-03,\n",
      "        -3.1866e-02, -1.5742e-02,  1.8587e-02,  3.4555e-02, -1.3899e-02,\n",
      "         1.1607e-02,  1.4475e-03, -2.6062e-02,  5.7163e-03, -8.0149e-03,\n",
      "         3.3519e-02, -2.9408e-02, -1.5588e-02,  1.4662e-02,  2.5797e-03,\n",
      "         3.0733e-02,  6.5189e-03,  3.3321e-02,  2.4657e-02, -3.2408e-02,\n",
      "        -5.3361e-04, -1.5534e-02,  1.4118e-02,  3.9447e-03, -2.6852e-02,\n",
      "         1.4123e-02,  1.5324e-02, -3.1673e-02,  1.6309e-02,  3.4720e-02,\n",
      "         2.9535e-02, -2.6395e-02,  1.7150e-02], requires_grad=True)\n"
     ]
    }
   ],
   "source": [
    "print(model.fc1.weight)\n",
    "print(model.fc1.bias)"
   ]
  },
  {
   "cell_type": "markdown",
   "metadata": {},
   "source": [
    "For custom initialization, we want to modify these tensors in place. These are actually autograd *Variables*, so we need to get back the actual tensors with `model.fc1.weight.data`. Once we have the tensors, we can fill them with zeros (for biases) or random normal values."
   ]
  },
  {
   "cell_type": "code",
   "execution_count": 47,
   "metadata": {
    "collapsed": true
   },
   "outputs": [
    {
     "data": {
      "text/plain": [
       "tensor([0., 0., 0., 0., 0., 0., 0., 0., 0., 0., 0., 0., 0., 0., 0., 0., 0., 0., 0., 0., 0., 0., 0., 0.,\n",
       "        0., 0., 0., 0., 0., 0., 0., 0., 0., 0., 0., 0., 0., 0., 0., 0., 0., 0., 0., 0., 0., 0., 0., 0.,\n",
       "        0., 0., 0., 0., 0., 0., 0., 0., 0., 0., 0., 0., 0., 0., 0., 0., 0., 0., 0., 0., 0., 0., 0., 0.,\n",
       "        0., 0., 0., 0., 0., 0., 0., 0., 0., 0., 0., 0., 0., 0., 0., 0., 0., 0., 0., 0., 0., 0., 0., 0.,\n",
       "        0., 0., 0., 0., 0., 0., 0., 0., 0., 0., 0., 0., 0., 0., 0., 0., 0., 0., 0., 0., 0., 0., 0., 0.,\n",
       "        0., 0., 0., 0., 0., 0., 0., 0.])"
      ]
     },
     "execution_count": 47,
     "metadata": {},
     "output_type": "execute_result"
    }
   ],
   "source": [
    "# Set biases to all zeros\n",
    "model.fc1.bias.data.fill_(0)"
   ]
  },
  {
   "cell_type": "code",
   "execution_count": 48,
   "metadata": {
    "collapsed": true
   },
   "outputs": [
    {
     "data": {
      "text/plain": [
       "tensor([[-1.3543e-02, -2.0713e-03,  6.4680e-04,  ...,  1.4009e-02,\n",
       "          9.1996e-03, -5.2667e-03],\n",
       "        [ 1.3643e-02, -3.9734e-03, -3.0168e-03,  ..., -4.9107e-04,\n",
       "          3.8654e-03,  1.2674e-02],\n",
       "        [-8.6151e-03, -9.5464e-03, -1.2107e-02,  ..., -1.4235e-02,\n",
       "         -7.3531e-03, -8.0721e-03],\n",
       "        ...,\n",
       "        [-5.6007e-03,  5.8805e-03, -1.5649e-02,  ...,  9.7104e-03,\n",
       "          3.2252e-03,  4.1797e-03],\n",
       "        [ 5.9918e-03,  4.8478e-03,  3.0305e-05,  ..., -1.5835e-03,\n",
       "          8.9845e-03, -1.2169e-02],\n",
       "        [ 3.8502e-03, -4.2247e-04, -4.2548e-03,  ..., -4.5543e-04,\n",
       "         -4.6173e-03, -6.2869e-03]])"
      ]
     },
     "execution_count": 48,
     "metadata": {},
     "output_type": "execute_result"
    }
   ],
   "source": [
    "# sample from random normal with standard dev = 0.01\n",
    "model.fc1.weight.data.normal_(std=0.01)"
   ]
  },
  {
   "cell_type": "markdown",
   "metadata": {},
   "source": [
    "### Forward pass\n",
    "\n",
    "Now that we have a network, let's see what happens when we pass in an image."
   ]
  },
  {
   "cell_type": "code",
   "execution_count": 51,
   "metadata": {
    "collapsed": true
   },
   "outputs": [],
   "source": [
    "# Grab some data \n",
    "dataiter = iter(trainloader)\n",
    "images, labels = next(dataiter)\n",
    "\n",
    "# Resize images into a 1D vector, new shape is (batch size, color channels, image pixels) \n",
    "images.resize_(64, 1, 784)\n",
    "# or images.resize_(images.shape[0], 1, 784) to automatically get batch size\n",
    "\n",
    "# Forward pass through the network\n",
    "img_idx = 0\n",
    "ps = model.forward(images[img_idx,:])\n",
    "\n",
    "img = images[img_idx]\n",
    "helper.view_classify(img.view(1, 28, 28), ps)"
   ]
  },
  {
   "cell_type": "markdown",
   "metadata": {},
   "source": [
    "As you can see above, our network has basically no idea what this digit is. It's because we haven't trained it yet, all the weights are random!\n",
    "\n",
    "### Using `nn.Sequential`\n",
    "\n",
    "PyTorch provides a convenient way to build networks like this where a tensor is passed sequentially through operations, `nn.Sequential` ([documentation](https://pytorch.org/docs/master/nn.html#torch.nn.Sequential)). Using this to build the equivalent network:"
   ]
  },
  {
   "cell_type": "code",
   "execution_count": 52,
   "metadata": {
    "collapsed": true
   },
   "outputs": [
    {
     "name": "stdout",
     "output_type": "stream",
     "text": [
      "Sequential(\n",
      "  (0): Linear(in_features=784, out_features=128, bias=True)\n",
      "  (1): ReLU()\n",
      "  (2): Linear(in_features=128, out_features=64, bias=True)\n",
      "  (3): ReLU()\n",
      "  (4): Linear(in_features=64, out_features=10, bias=True)\n",
      "  (5): Softmax(dim=1)\n",
      ")\n"
     ]
    }
   ],
   "source": [
    "# Hyperparameters for our network\n",
    "input_size = 784\n",
    "hidden_sizes = [128, 64]\n",
    "output_size = 10\n",
    "\n",
    "# Build a feed-forward network\n",
    "model = nn.Sequential(nn.Linear(input_size, hidden_sizes[0]),\n",
    "                      nn.ReLU(),\n",
    "                      nn.Linear(hidden_sizes[0], hidden_sizes[1]),\n",
    "                      nn.ReLU(),\n",
    "                      nn.Linear(hidden_sizes[1], output_size),\n",
    "                      nn.Softmax(dim=1))\n",
    "print(model)\n",
    "\n",
    "# Forward pass through the network and display output\n",
    "images, labels = next(iter(trainloader))\n",
    "images.resize_(images.shape[0], 1, 784)\n",
    "ps = model.forward(images[0,:])\n",
    "helper.view_classify(images[0].view(1, 28, 28), ps)"
   ]
  },
  {
   "cell_type": "markdown",
   "metadata": {},
   "source": [
    "Here our model is the same as before: 784 input units, a hidden layer with 128 units, ReLU activation, 64 unit hidden layer, another ReLU, then the output layer with 10 units, and the softmax output.\n",
    "\n",
    "The operations are available by passing in the appropriate index. For example, if you want to get first Linear operation and look at the weights, you'd use `model[0]`."
   ]
  },
  {
   "cell_type": "code",
   "execution_count": 53,
   "metadata": {
    "collapsed": true
   },
   "outputs": [
    {
     "name": "stdout",
     "output_type": "stream",
     "text": [
      "Linear(in_features=784, out_features=128, bias=True)\n"
     ]
    },
    {
     "data": {
      "text/plain": [
       "Parameter containing:\n",
       "tensor([[-0.0045,  0.0340,  0.0246,  ...,  0.0178,  0.0121, -0.0324],\n",
       "        [ 0.0343, -0.0071,  0.0273,  ..., -0.0163,  0.0319, -0.0152],\n",
       "        [ 0.0320, -0.0198, -0.0224,  ...,  0.0262, -0.0114,  0.0268],\n",
       "        ...,\n",
       "        [-0.0322, -0.0020,  0.0330,  ..., -0.0210, -0.0301,  0.0188],\n",
       "        [-0.0073, -0.0307, -0.0261,  ...,  0.0344,  0.0188,  0.0223],\n",
       "        [-0.0284,  0.0279,  0.0053,  ...,  0.0350, -0.0079,  0.0105]],\n",
       "       requires_grad=True)"
      ]
     },
     "execution_count": 53,
     "metadata": {},
     "output_type": "execute_result"
    }
   ],
   "source": [
    "print(model[0])\n",
    "model[0].weight"
   ]
  },
  {
   "cell_type": "markdown",
   "metadata": {},
   "source": [
    "You can also pass in an `OrderedDict` to name the individual layers and operations, instead of using incremental integers. Note that dictionary keys must be unique, so _each operation must have a different name_."
   ]
  },
  {
   "cell_type": "code",
   "execution_count": 54,
   "metadata": {
    "collapsed": true
   },
   "outputs": [
    {
     "data": {
      "text/plain": [
       "Sequential(\n",
       "  (fc1): Linear(in_features=784, out_features=128, bias=True)\n",
       "  (relu1): ReLU()\n",
       "  (fc2): Linear(in_features=128, out_features=64, bias=True)\n",
       "  (relu2): ReLU()\n",
       "  (output): Linear(in_features=64, out_features=10, bias=True)\n",
       "  (softmax): Softmax(dim=1)\n",
       ")"
      ]
     },
     "execution_count": 54,
     "metadata": {},
     "output_type": "execute_result"
    }
   ],
   "source": [
    "from collections import OrderedDict\n",
    "model = nn.Sequential(OrderedDict([\n",
    "                      ('fc1', nn.Linear(input_size, hidden_sizes[0])),\n",
    "                      ('relu1', nn.ReLU()),\n",
    "                      ('fc2', nn.Linear(hidden_sizes[0], hidden_sizes[1])),\n",
    "                      ('relu2', nn.ReLU()),\n",
    "                      ('output', nn.Linear(hidden_sizes[1], output_size)),\n",
    "                      ('softmax', nn.Softmax(dim=1))]))\n",
    "model"
   ]
  },
  {
   "cell_type": "markdown",
   "metadata": {},
   "source": [
    "Now you can access layers either by integer or the name"
   ]
  },
  {
   "cell_type": "code",
   "execution_count": 55,
   "metadata": {
    "collapsed": true
   },
   "outputs": [
    {
     "name": "stdout",
     "output_type": "stream",
     "text": [
      "Linear(in_features=784, out_features=128, bias=True)\n",
      "Linear(in_features=784, out_features=128, bias=True)\n"
     ]
    }
   ],
   "source": [
    "print(model[0])\n",
    "print(model.fc1)"
   ]
  },
  {
   "cell_type": "markdown",
   "metadata": {},
   "source": [
    "In the next notebook, we'll see how we can train a neural network to accuractly predict the numbers appearing in the MNIST images."
   ]
  }
 ],
 "metadata": {
  "kernelspec": {
   "display_name": "base",
   "language": "python",
   "name": "python3"
  },
  "language_info": {
   "codemirror_mode": {
    "name": "ipython",
    "version": 3
   },
   "file_extension": ".py",
   "mimetype": "text/x-python",
   "name": "python",
   "nbconvert_exporter": "python",
   "pygments_lexer": "ipython3",
   "version": "3.12.7"
  }
 },
 "nbformat": 4,
 "nbformat_minor": 2
}
